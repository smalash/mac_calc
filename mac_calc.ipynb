{
  "metadata": {
    "kernelspec": {
      "name": "python",
      "display_name": "Python (Pyodide)",
      "language": "python"
    },
    "language_info": {
      "codemirror_mode": {
        "name": "python",
        "version": 3
      },
      "file_extension": ".py",
      "mimetype": "text/x-python",
      "name": "python",
      "nbconvert_exporter": "python",
      "pygments_lexer": "ipython3",
      "version": "3.8"
    }
  },
  "nbformat_minor": 5,
  "nbformat": 4,
  "cells": [
    {
      "id": "1f0bc69a-d4a7-4160-8169-22cbc49d45f6",
      "cell_type": "code",
      "source": "mac = \"DE331323334353637\"",
      "metadata": {
        "trusted": true
      },
      "outputs": [],
      "execution_count": 3
    },
    {
      "id": "ec689377-2450-4a5a-9281-9c0ca76b6162",
      "cell_type": "code",
      "source": "\n\n# делим MAC на пары значений\nsplit_mac = []\nfor i in range(0, 16, 2):\n    split_mac.append(mac[i:i + 2])\n\n# добавляем дополнительные статичные пары значений не зависящие от MAC\nstart = [\"1\", \"1A\", \"1A\"]\nend = [\"FF\", \"FF\", \"36\", \"34\", \"37\", \"37\", \"2E\", \"30\", \"34\", \"39\", \"2D\", \"30\", \"34\", \"5B\", \"38\", \"5D\", \"FF\", \"FF\"]\nh = start + split_mac + end\n\n# переводим каждую пару в двоичную систему с добавлением нулей слева\nhex_to_bin = []\nfor i in h:\n    a = bin(int(i, 16))[2:]\n    hex_to_bin.append(f\"{a:0>8}\")\n\n# тут я хз что происходит\n# наверняка у этого есть математическое название или какая-то короткая формула\n# я же сделал просто по аналогии с примером расчёта\npolinom = [0, 0, 0, 0, 0, 1, 1, 1]\nhz = []\nfor x in hex_to_bin:\n    hz.extend(map(int, x))\nelse:\n    hz.extend(map(int, \"0\" * 8))\ncheck = hz[:8]\nfor i in range(1, 233):\n    g = []\n    for j in range(8):\n        if j == 7:\n            x = hz[j + i]\n        else:\n            x = check[j + 1]\n        if check[0] == 0:\n            g.append(x)\n        else:\n            g.append(x ^ polinom[j])\n\n    check = g\n\n# переводим вычисленные значения обратно в шестнадцатеричную систему\nA = \"\".join(map(str, check[:4]))\nC = \"\".join(map(str, check[4:]))\nA_hex = hex(int(A, 2))[2:].capitalize()\nC_hex = hex(int(C, 2))[2:].capitalize()\n\n# объединяем все части итоговой комманды\na1 = \"$AA$01$1A$1A$\"\na2 = \"$\".join(split_mac)\na3 = \"$FF$FF$36$34$37$37$2E$30$34$39$2D$30$34$5B$38$5D$FF$FF$\"\na4 = A_hex + C_hex\ncommand = \"\".join((a1, a2, a3, a4))\nprint(command)",
      "metadata": {
        "trusted": true,
        "jupyter": {
          "source_hidden": true
        }
      },
      "outputs": [
        {
          "name": "stdout",
          "output_type": "stream",
          "text": "$AA$01$1A$1A$DE$33$13$23$33$43$53$63$FF$FF$36$34$37$37$2E$30$34$39$2D$30$34$5B$38$5D$FF$FF$AC\n"
        }
      ],
      "execution_count": 4
    }
  ]
}
